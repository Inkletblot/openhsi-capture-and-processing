{
 "cells": [
  {
   "cell_type": "markdown",
   "id": "0e7583d1-7cb1-4e9b-ad8b-671753e119df",
   "metadata": {},
   "source": [
    "# Ground Truth Generation (Initial Captures)\n",
    "\n",
    "This notebook generates ground truth maps using a simple watershed algorithm and user input, it will generate "
   ]
  },
  {
   "cell_type": "code",
   "execution_count": 1,
   "id": "3b5fb3ce-bc46-44e7-9b83-5eb1bf5ed5fa",
   "metadata": {},
   "outputs": [],
   "source": [
    "from spectral import *\n",
    "import netCDF4 as nc\n",
    "import numpy as np\n",
    "import matplotlib.pyplot as plt\n",
    "import cv2 as cv\n",
    "import pickle\n",
    "from os.path import exists\n",
    "from matplotlib import cm"
   ]
  },
  {
   "cell_type": "code",
   "execution_count": 19,
   "id": "af53c62a-1f3c-44aa-8506-74e6c41d8b32",
   "metadata": {},
   "outputs": [],
   "source": [
    "# make sure to use radiance, for some reason reflectance doesn't work properly\n",
    "fn = \"processed-data/sardi-capture/capture-3/radiance/2023_02_28/2023_02_28-01_03_28.nc\"\n",
    "gnd_t_fn = fn.replace('radiance','reflectance').split('.')[0] + \"-gnd_t.pkl\""
   ]
  },
  {
   "cell_type": "code",
   "execution_count": 9,
   "id": "3676ad29-c9ee-4f17-b31c-716202d1becb",
   "metadata": {},
   "outputs": [],
   "source": [
    "def process_into_rgb(loc_ds):\n",
    "    \"\"\"\n",
    "    Processes a given dataset into an rgb image for display\n",
    "    \"\"\"\n",
    "    loc_dc = np.array(loc_ds['datacube'])\n",
    "    loc_binned_wavelengths = np.array(loc_ds['wavelength'])\n",
    "    loc_image = np.zeros((loc_dc.shape[1],loc_dc.shape[2],3), np.uint8)\n",
    "\n",
    "    loc_red_wavelength = 620\n",
    "    loc_green_wavelength = 560\n",
    "    loc_blue_wavelength = 470\n",
    "\n",
    "    loc_red_layer = loc_dc[np.argmin(np.abs(loc_binned_wavelengths-loc_red_wavelength)),:,:]  \n",
    "    loc_green_layer = loc_dc[np.argmin(np.abs(loc_binned_wavelengths-loc_green_wavelength)),:,:] \n",
    "    loc_blue_layer = loc_dc[np.argmin(np.abs(loc_binned_wavelengths-loc_blue_wavelength)),:,:] \n",
    "\n",
    "    # loc_red_layer = loc_dc[120,:,:]  \n",
    "    # loc_green_layer = loc_dc[80,:,:] \n",
    "    # loc_blue_layer = loc_dc[20,:,:] \n",
    "\n",
    "    loc_image[:,:,0] = loc_red_layer\n",
    "    loc_image[:,:,1] = loc_green_layer\n",
    "    loc_image[:,:,2] = loc_blue_layer\n",
    "\n",
    "    # scale the values to within the central 2 to 98 percent values to remove outlier readings\n",
    "    loc_vmax = np.nanpercentile(loc_image, 98)\n",
    "    loc_vmin = np.nanpercentile(loc_image, 2)\n",
    "    loc_image = ((loc_image.astype(\"f8\") - loc_vmin) / (loc_vmax - loc_vmin)).astype(\"f4\")\n",
    "    loc_image = np.minimum(np.maximum(loc_image, 0), 1)\n",
    "\n",
    "    loc_image *= 255\n",
    "    loc_image = loc_image.astype(np.uint8)\n",
    "    \n",
    "    return loc_image"
   ]
  },
  {
   "cell_type": "code",
   "execution_count": 10,
   "id": "ed0fda4c-bc58-41ea-b7ee-813e939d896c",
   "metadata": {},
   "outputs": [],
   "source": [
    "ds = nc.Dataset(fn)"
   ]
  },
  {
   "cell_type": "code",
   "execution_count": 11,
   "id": "d37d8774-215a-4c41-84a2-81fc8691662d",
   "metadata": {
    "tags": []
   },
   "outputs": [],
   "source": [
    "image = process_into_rgb(ds)"
   ]
  },
  {
   "cell_type": "code",
   "execution_count": 16,
   "id": "3a5ef27f-1710-41ef-8726-eeb4b2a7c2c4",
   "metadata": {},
   "outputs": [],
   "source": [
    "# force recreation of ground truth files\n",
    "force = True"
   ]
  },
  {
   "cell_type": "code",
   "execution_count": 18,
   "id": "6b38c6f6-bb0d-435c-971b-9ffc7a68975c",
   "metadata": {},
   "outputs": [],
   "source": [
    "def create_rgb(i):\n",
    "    return tuple(np.array(cm.tab10(i)[:3])*255)\n",
    "\n",
    "def on_click(event,x,y,flags,params):\n",
    "    global marks_updated\n",
    "\n",
    "    if event == cv.EVENT_LBUTTONDOWN:                         \n",
    "        # add mark to image that gets passed to the watershed algo\n",
    "        cv.circle(marker_img,(x,y),10,(current_marker),-1) \n",
    "\n",
    "        # add mark to image for user to see\n",
    "        cv.circle(img_copy,(x,y),10,colors[current_marker],-1)\n",
    "\n",
    "        marks_updated = True \n",
    "\n",
    "if not exists(gnd_t_fn) or force:\n",
    "    img_copy=np.copy(image)\n",
    "    marker_img=np.zeros(image.shape[:2],dtype=np.int32)\n",
    "    segments = np.zeros(image.shape,dtype=np.uint8)\n",
    "    ground_truth = np.zeros(image.shape[:2],dtype=np.uint8)\n",
    "\n",
    "    cm.tab10(0)\n",
    "\n",
    "    colors = []\n",
    "    for i in range(10):\n",
    "        colors.append(create_rgb(i))\n",
    "    colors[1]=(0,0,0)\n",
    "    \n",
    "    n_marker = 9\n",
    "    current_marker = 1\n",
    "    marks_updated = False\n",
    "\n",
    "    # create display window\n",
    "    cv.namedWindow('Image')\n",
    "    cv.setMouseCallback('Image', on_click)\n",
    "\n",
    "    while True:\n",
    "        \n",
    "        cv.imshow('Watershed segments',segments)\n",
    "        cv.imshow('Image',img_copy)\n",
    "\n",
    "        k = cv.waitKey(1)\n",
    "\n",
    "        # jump out of loop and close all windows with ESC\n",
    "        if k == 27:\n",
    "            break\n",
    "\n",
    "        # clear the images with c\n",
    "        elif k == ord('c'):\n",
    "            img_copy = image.copy()\n",
    "            marker_img = np.zeros(image.shape[:2],dtype = np.int32)\n",
    "            segments = np.zeros(image.shape,dtype = np.uint8) \n",
    "\n",
    "        # update the colour choice, keys [1-9] \n",
    "        elif k > 0 and chr(k).isdigit():\n",
    "            current_marker = int(chr(k))\n",
    "\n",
    "        # update the watershed fill based on the marks\n",
    "        if marks_updated:\n",
    "            marker_img_copy = marker_img.copy()\n",
    "            cv.watershed(image,marker_img_copy)\n",
    "            segments = np.zeros(image.shape,dtype = np.uint8)\n",
    "            \n",
    "            for color_ind in range(n_marker):\n",
    "                segments[marker_img_copy == (color_ind)] = colors[color_ind]\n",
    "                ground_truth[marker_img_copy == (color_ind)] = color_ind\n",
    "\n",
    "    # close all windows\n",
    "    cv.destroyAllWindows()\n",
    "\n",
    "    # save ground truth for future use\n",
    "    with open(gnd_t_fn, 'wb') as out_file:\n",
    "        pickle.dump(ground_truth, out_file)"
   ]
  },
  {
   "cell_type": "code",
   "execution_count": null,
   "id": "48f6a001-cd01-4d26-9740-8f602fa9b13e",
   "metadata": {},
   "outputs": [],
   "source": []
  }
 ],
 "metadata": {
  "kernelspec": {
   "display_name": "Python 3 (ipykernel)",
   "language": "python",
   "name": "python3"
  },
  "language_info": {
   "codemirror_mode": {
    "name": "ipython",
    "version": 3
   },
   "file_extension": ".py",
   "mimetype": "text/x-python",
   "name": "python",
   "nbconvert_exporter": "python",
   "pygments_lexer": "ipython3",
   "version": "3.10.10"
  }
 },
 "nbformat": 4,
 "nbformat_minor": 5
}
