{
 "cells": [
  {
   "cell_type": "markdown",
   "id": "56e70766-5266-41a8-91c8-6c0fca626862",
   "metadata": {},
   "source": [
    "# Process Capture Set\n",
    "\n",
    "This notebook iterates through a given folder and processes all of the datacubes in it. The first block processes them to level 4, binned wavelengths, the second processes them to level 6, full reflectance."
   ]
  },
  {
   "cell_type": "markdown",
   "id": "77242d37-2aa8-4ec5-b324-67977037ee84",
   "metadata": {},
   "source": [
    "\n",
    "This notebook requires that a radiative transfer calibration has been completed prior.\n"
   ]
  },
  {
   "cell_type": "code",
   "execution_count": 11,
   "id": "d86ce0e7-ffd8-4a6c-a84b-fd9ef107c4cd",
   "metadata": {},
   "outputs": [],
   "source": [
    "from datetime import datetime\n",
    "from openhsi.atmos import *\n",
    "from openhsi.capture import *\n",
    "from Py6S import *\n",
    "from scipy.interpolate import interp1d\n",
    "import numpy as np\n",
    "from openhsi.capture import ProcessDatacube\n",
    "import netCDF4 as nc\n",
    "import pickle as pk\n",
    "import os"
   ]
  },
  {
   "cell_type": "markdown",
   "id": "e539d4f8-5136-4f6e-b3dd-32f47361816e",
   "metadata": {},
   "source": [
    "### Sardi Capture 2"
   ]
  },
  {
   "cell_type": "code",
   "execution_count": 12,
   "id": "726c708c-62e0-4617-8b85-540b8c07fd72",
   "metadata": {
    "tags": []
   },
   "outputs": [],
   "source": [
    "# path to the recorded image\n",
    "date = \"2023_03_28\"\n",
    "data_path = \"data/sardi-final\" + \"/\" + date\n",
    "\n",
    "raw_processed_path = \"processed-data/sardi-capture-final\"\n",
    "save_data_path = raw_processed_path + \"/final\"\n",
    "radiance_path = save_data_path + \"/radiance\"\n",
    "reflectance_path = save_data_path + \"/reflectance\"\n",
    "\n",
    "# original camera settings\n",
    "json_path = \"assets/OpenHSI-11_settings_Mono12_bin2.json\"\n",
    "pkl_path  = \"assets/OpenHSI-11_calibration_Mono12_bin2_window.pkl\"\n",
    "\n",
    "# location/files to store updated camera settings in\n",
    "updated_cam_settings_path = raw_processed_path + \"/settings.json\"\n",
    "updated_cam_calibration_path = raw_processed_path + \"/calibration.pkl\"\n",
    "\n",
    "# processing level to use\n",
    "proc_lvl_1 = 4 # level to process the raw data to\n",
    "proc_lvl_2 = 6 # level to process the processed data to"
   ]
  },
  {
   "cell_type": "code",
   "execution_count": 31,
   "id": "002b603a-27b4-4196-95ea-6b102bb8a76c",
   "metadata": {},
   "outputs": [],
   "source": [
    "pkl_path = \"processed-data/tertiary-capture/calibration.pkl\"\n",
    "\n",
    "\n",
    "with open(pkl_path, 'rb') as in_file:\n",
    "    calibration = pk.load(in_file)\n",
    "    \n"
   ]
  },
  {
   "cell_type": "code",
   "execution_count": 34,
   "id": "21414c60-3561-48fc-bf53-06c3af1422fd",
   "metadata": {},
   "outputs": [
    {
     "name": "stdout",
     "output_type": "stream",
     "text": [
      "dict_keys(['HgAr_pic', 'smile_shifts', 'wavelengths', 'wavelengths_linear', 'flat_field_pic', 'spec_rad_ref_luminance', 'sfit', 'rad_ref', 'rad_fit'])\n"
     ]
    }
   ],
   "source": [
    "print(calibration.keys())"
   ]
  },
  {
   "cell_type": "code",
   "execution_count": 38,
   "id": "4575b877-7d5f-4e55-8d01-5bb69668cc45",
   "metadata": {},
   "outputs": [
    {
     "name": "stdout",
     "output_type": "stream",
     "text": [
      "<scipy.interpolate._interpolate.interp1d object at 0x7fe8de9fdb30>\n"
     ]
    }
   ],
   "source": [
    "print(calibration['rad_fit'])"
   ]
  },
  {
   "cell_type": "code",
   "execution_count": null,
   "id": "b8ac29f4-11bf-4018-b299-70fdffaf1bde",
   "metadata": {},
   "outputs": [],
   "source": []
  },
  {
   "cell_type": "code",
   "execution_count": 8,
   "id": "50e33087-14aa-4900-a292-a9545a5b2797",
   "metadata": {},
   "outputs": [
    {
     "name": "stdout",
     "output_type": "stream",
     "text": [
      "Allocated 826.61 MB of RAM.\n",
      "Allocated 826.61 MB of RAM.\n",
      "DataCube: shape = (456, 528), Processing level = -1\n",
      "\n"
     ]
    },
    {
     "name": "stderr",
     "output_type": "stream",
     "text": [
      "100%|███████████████████████████████████████████████████████████████████████████████████████████████████████████████████████████████████████████████████████████████████████████████████████████████████████| 900/900 [00:06<00:00, 148.72it/s]"
     ]
    },
    {
     "name": "stdout",
     "output_type": "stream",
     "text": [
      "DataCube: shape = (456, 528), Processing level = -1\n",
      "\n"
     ]
    },
    {
     "name": "stderr",
     "output_type": "stream",
     "text": [
      "\n"
     ]
    }
   ],
   "source": [
    "# For batching...\n",
    "data_cubes = ['2023_03_28-02_29_35.nc']\n",
    "\n",
    "for file in data_cubes:\n",
    "    path = data_path + '/' + file\n",
    "    \n",
    "    # read unprocessed data into openhsi\n",
    "    proc_dc = ProcessRawDatacube(fname = path, processing_lvl=-1,\n",
    "                                 json_path=json_path, pkl_path=pkl_path)\n",
    "    \n",
    "    dat = proc_dc\n",
    "    print(dat)\n",
    "\n",
    "    # 'collect' the data (read reprocess)\n",
    "    proc_dc.collect()\n",
    "\n",
    "    # print the datacube to check processing level\n",
    "    print(proc_dc)"
   ]
  },
  {
   "cell_type": "code",
   "execution_count": null,
   "id": "c449ae24-8697-40d9-af17-c69b9bdea124",
   "metadata": {},
   "outputs": [],
   "source": [
    "proc_dc.save(processed_path)"
   ]
  },
  {
   "cell_type": "code",
   "execution_count": null,
   "id": "11a98b8b-60fb-4a30-8a75-21dbb534ddd6",
   "metadata": {},
   "outputs": [],
   "source": [
    "# For batching...\n",
    "data_cubes = ['2023_03_28-02_29_35.nc']\n",
    "\n",
    "for file in data_cubes:\n",
    "    path = radiance_path + '/' + date + '/' + file\n",
    "    \n",
    "    # read unprocessed data into openhsi\n",
    "    proc_dc = ProcessRawDatacube(fname = path, processing_lvl=proc_lvl_1,\n",
    "                                 json_path=json_path, pkl_path=pkl_path)\n",
    "\n",
    "    # 'collect' the data (read reprocess)\n",
    "    proc_dc.collect()\n",
    "\n",
    "    # print the datacube to check processing level\n",
    "    print(proc_dc)\n",
    "\n",
    "    # save the now processed image\n",
    "#     proc_dc.save(processed_path)\n",
    "    \n",
    "#     del(proc_dc)"
   ]
  },
  {
   "cell_type": "markdown",
   "id": "3e42ba2b-5c62-42b5-ac1e-b98d2638fb68",
   "metadata": {},
   "source": [
    "### Complete processing of processed data\n",
    "\n",
    "You will need to input the updated `raw_processed_path` with the file in here."
   ]
  },
  {
   "cell_type": "code",
   "execution_count": null,
   "id": "9b9ce178-ea13-4147-aab4-b2e5995b2732",
   "metadata": {},
   "outputs": [],
   "source": [
    "# The following did not work for the secondary captures\n",
    "# proc_data_path = raw_processed_path + '/' + data_path.split('/')[len(data_path.split('/'))-1]\n",
    "\n",
    "proc_data_path = \"processed-data/bedford-capture/capture-2/radiance/2023_03_14\""
   ]
  },
  {
   "cell_type": "code",
   "execution_count": null,
   "id": "58812365-580f-40ec-a28f-520ed7f2e9ff",
   "metadata": {},
   "outputs": [],
   "source": [
    "dir_cont = os.listdir(proc_data_path)\n",
    "\n",
    "data_cubes = [cont for cont in dir_cont if '.nc' in cont]\n",
    "print(data_cubes)"
   ]
  },
  {
   "cell_type": "markdown",
   "id": "15e84709-8424-4432-b0c7-608b382b6dd9",
   "metadata": {},
   "source": [
    "Again, I will be batching the secondary capture, here are the files:\n",
    "\n",
    "```\n",
    "# Secondary Capture\n",
    "['2022_11_08-03_07_05.nc', '2022_11_08-03_05_38.nc', '2022_11_08-02_35_55.nc', '2022_11_08-02_29_59.nc', '2022_11_08-02_27_29.nc', '2022_11_08-02_56_33.nc', '2022_11_08-02_34_13.nc', '2022_11_08-02_57_06.nc', '2022_11_08-02_55_33.nc', '2022_11_08-02_36_42.nc', '2022_11_08-03_02_28.nc', '2022_11_08-02_54_47.nc', '2022_11_08-03_01_21.nc', '2022_11_08-02_29_19.nc', '2022_11_08-03_00_10.nc', '2022_11_08-02_37_58.nc', '2022_11_08-02_59_16.nc', '2022_11_08-02_54_09.nc', '2022_11_08-02_30_36.nc', '2022_11_08-02_47_05.nc', '2022_11_08-03_06_08.nc', '2022_11_08-03_04_29.nc', '2022_11_08-02_28_28.nc', '2022_11_08-02_49_58.nc', '2022_11_08-02_49_26.nc', '2022_11_08-02_48_52.nc', '2022_11_08-02_48_17.nc', '2022_11_08-03_01_52.nc', '2022_11_08-02_37_15.nc', '2022_11_08-03_05_09.nc']\n",
    "```\n",
    "And the tertiary catpure\n",
    "\n",
    "```\n",
    "# Tertiary Capture\n",
    "['2022_11_16-04_21_31.nc', '2022_11_16-04_26_19.nc', '2022_11_16-03_40_19.nc', '2022_11_16-04_23_06.nc', '2022_11_16-04_01_51.nc', '2022_11_16-03_36_39.nc', '2022_11_16-04_11_30.nc', '2022_11_16-03_20_48.nc', '2022_11_16-04_19_38.nc', '2022_11_16-03_34_42.nc', '2022_11_16-03_37_53.nc', '2022_11_16-04_23_42.nc', '2022_11_16-04_30_44.nc', '2022_11_16-03_42_45.nc', '2022_11_16-04_10_05.nc', '2022_11_16-03_16_55.nc', '2022_11_16-04_13_22.nc', '2022_11_16-03_43_20.nc', '2022_11_16-03_41_33.nc', '2022_11_16-04_03_31.nc', '2022_11_16-03_38_55.nc', '2022_11_16-03_23_02.nc', '2022_11_16-04_12_37.nc', '2022_11_16-04_30_07.nc', '2022_11_16-04_04_28.nc', '2022_11_16-04_27_46.nc', '2022_11_16-03_22_07.nc', '2022_11_16-03_38_24.nc', '2022_11_16-03_23_39.nc', '2022_11_16-04_02_46.nc', '2022_11_16-04_28_59.nc', '2022_11_16-03_35_33.nc', '2022_11_16-03_16_13.nc', '2022_11_16-03_27_12.nc', '2022_11_16-04_08_52.nc', '2022_11_16-04_25_37.nc', '2022_11_16-03_18_55.nc', '2022_11_16-04_10_54.nc', '2022_11_16-03_21_22.nc', '2022_11_16-03_15_07.nc']\n",
    "```\n",
    "\n",
    "And SARDI capture 1\n",
    "\n",
    "```\n",
    "['2023_02_27-01_49_30.nc', '2023_02_27-03_12_50.nc', '2023_02_27-01_47_38.nc', '2023_02_27-01_43_22.nc', '2023_02_27-01_41_25.nc', '2023_02_27-01_34_57.nc', '2023_02_27-02_57_52.nc', '2023_02_27-02_52_59.nc', '2023_02_27-01_51_25.nc', '2023_02_27-03_01_37.nc', '2023_02_27-01_53_44.nc', '2023_02_27-03_10_29.nc', '2023_02_27-03_18_41.nc', '2023_02_27-01_37_17.nc', '2023_02_27-03_08_06.nc', '2023_02_27-03_04_48.nc', '2023_02_27-01_45_23.nc', '2023_02_27-01_39_24.nc', '2023_02_27-03_16_13.nc', '2023_02_27-02_55_25.nc']\n",
    "```\n",
    "\n",
    "SARDI capture 2\n",
    "\n",
    "```\n",
    "['2023_02_27-23_55_14.nc', '2023_02_27-23_59_39.nc', '2023_02_27-23_43_58.nc', '2023_02_27-23_57_20.nc', '2023_02_27-23_41_47.nc', '2023_02_27-23_52_55.nc']\n",
    "\n",
    "['2023_02_28-00_35_45.nc', '2023_02_28-00_08_16.nc', '2023_02_28-00_31_06.nc', '2023_02_28-00_15_10.nc', '2023_02_28-00_23_06.nc', '2023_02_28-00_38_57.nc', '2023_02_28-00_02_32.nc', '2023_02_28-00_13_11.nc', '2023_02_28-00_33_31.nc', '2023_02_28-00_17_51.nc', '2023_02_28-00_29_01.nc', '2023_02_28-00_26_58.nc', '2023_02_28-00_10_53.nc', '2023_02_28-00_06_04.nc']\n",
    "```\n",
    "\n",
    "SARDI capture 3\n",
    "\n",
    "```\n",
    "['2023_02_28-01_03_28.nc', '2023_02_28-01_24_20.nc', '2023_02_28-01_34_24.nc', '2023_02_28-01_30_04.nc', '2023_02_28-01_14_55.nc', '2023_02_28-01_47_08.nc', '2023_02_28-01_27_14.nc', '2023_02_28-01_00_28.nc', '2023_02_28-01_06_05.nc', '2023_02_28-01_20_08.nc', '2023_02_28-01_38_44.nc', '2023_02_28-01_36_48.nc', '2023_02_28-01_18_13.nc', '2023_02_28-01_40_40.nc', '2023_02_28-01_22_01.nc', '2023_02_28-01_32_04.nc', '2023_02_28-01_12_55.nc', '2023_02_28-01_45_10.nc', '2023_02_28-01_43_06.nc', '2023_02_28-01_49_04.nc']\n",
    "```\n",
    "\n",
    "Bedford Capture 1\n",
    "\n",
    "```\n",
    "['2023_03_14-01_55_01.nc', '2023_03_14-01_51_20.nc', '2023_03_14-02_01_40.nc', '2023_03_14-01_40_47.nc', '2023_03_14-01_42_06.nc', '2023_03_14-02_05_38.nc', '2023_03_14-02_03_31.nc', '2023_03_14-01_49_45.nc', '2023_03_14-01_56_42.nc', '2023_03_14-01_53_14.nc', '2023_03_14-01_44_34.nc', '2023_03_14-01_48_23.nc', '2023_03_14-01_58_25.nc', '2023_03_14-01_39_32.nc', '2023_03_14-02_08_44.nc', '2023_03_14-01_46_01.nc', '2023_03_14-02_00_05.nc', '2023_03_14-01_26_05.nc', '2023_03_14-01_43_21.nc', '2023_03_14-02_07_19.nc']\n",
    "```\n",
    "\n",
    "Bedford Capture 2\n",
    "\n",
    "```\n",
    "['2023_03_14-02_49_05.nc', '2023_03_14-02_57_53.nc', '2023_03_14-02_46_28.nc', '2023_03_14-02_44_33.nc', '2023_03_14-02_56_11.nc', '2023_03_14-02_39_26.nc', '2023_03_14-02_53_36.nc', '2023_03_14-02_41_27.nc', '2023_03_14-02_51_48.nc', '2023_03_14-02_42_51.nc']\n",
    "```"
   ]
  },
  {
   "cell_type": "code",
   "execution_count": null,
   "id": "5ced7426-fe27-4863-a48c-d4e43960f139",
   "metadata": {},
   "outputs": [],
   "source": [
    "# for batching...\n",
    "# data_cubes = ['2023_03_14-01_55_01.nc', '2023_03_14-01_51_20.nc', '2023_03_14-02_01_40.nc', '2023_03_14-01_40_47.nc', '2023_03_14-01_42_06.nc', '2023_03_14-02_05_38.nc', '2023_03_14-02_03_31.nc', '2023_03_14-01_49_45.nc', '2023_03_14-01_56_42.nc', '2023_03_14-01_53_14.nc']\n",
    "\n",
    "for fname in data_cubes:\n",
    "    proced_dc = ProcessDatacube(fname = proc_data_path + '/' + fname, processing_lvl=proc_lvl_2,\n",
    "                                 json_path=updated_cam_settings_path, pkl_path=updated_cam_calibration_path)\n",
    "\n",
    "    # specifically define that the transform should be from radiance to reflectance.\n",
    "    proced_dc.load_next_tfms([proced_dc.rad2ref_6SV])\n",
    "\n",
    "    proced_dc.collect()\n",
    "    \n",
    "    proced_dc.save(processed_processed_path)"
   ]
  },
  {
   "cell_type": "code",
   "execution_count": null,
   "id": "0e25a576-3b43-4910-b181-2d201c393fcf",
   "metadata": {},
   "outputs": [],
   "source": []
  }
 ],
 "metadata": {
  "kernelspec": {
   "display_name": "Python 3 (ipykernel)",
   "language": "python",
   "name": "python3"
  },
  "language_info": {
   "codemirror_mode": {
    "name": "ipython",
    "version": 3
   },
   "file_extension": ".py",
   "mimetype": "text/x-python",
   "name": "python",
   "nbconvert_exporter": "python",
   "pygments_lexer": "ipython3",
   "version": "3.8.16"
  }
 },
 "nbformat": 4,
 "nbformat_minor": 5
}
